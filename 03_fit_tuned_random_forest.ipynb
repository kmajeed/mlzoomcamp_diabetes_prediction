{
 "cells": [
  {
   "cell_type": "markdown",
   "metadata": {},
   "source": [
    "# Final Random Forest Model\n",
    "\n",
    "In this notebook I am going to implement and Random Forest Model on data using the hyperparameters which I tuned in the previous notebook `02_build_multiple_models.ipynb`"
   ]
  },
  {
   "cell_type": "markdown",
   "metadata": {},
   "source": [
    "## Library Imports"
   ]
  },
  {
   "cell_type": "code",
   "execution_count": 1,
   "metadata": {},
   "outputs": [
    {
     "name": "stdout",
     "output_type": "stream",
     "text": [
      "Python version: 3.11.5 (main, Sep 11 2023, 13:54:46) [GCC 11.2.0]\n",
      "pandas version: 2.1.2\n",
      "matplotlib version: 3.7.2\n",
      "NumPy version: 1.24.3\n",
      "IPython version: 8.15.0\n",
      "scikit-learn version: 1.3.0\n",
      "-------------------------\n"
     ]
    }
   ],
   "source": [
    "import pandas as pd\n",
    "import numpy as np\n",
    "\n",
    "import matplotlib.pyplot as plt\n",
    "import plotly.express as px\n",
    "import seaborn as sns\n",
    "%matplotlib inline\n",
    "\n",
    "#misc libraries\n",
    "import random\n",
    "import time\n",
    "\n",
    "# Disabling warnings:\n",
    "import warnings\n",
    "warnings.filterwarnings('ignore') \n",
    "plt.style.use('ggplot')\n",
    "\n",
    "\n",
    "\n",
    "#load packages\n",
    "import sys #access to system parameters https://docs.python.org/3/library/sys.html\n",
    "print(\"Python version: {}\". format(sys.version))\n",
    "import pandas as pd #collection of functions for data processing and analysis modeled after R dataframes with SQL like features\n",
    "print(\"pandas version: {}\". format(pd.__version__))\n",
    "import matplotlib #collection of functions for scientific and publication-ready visualization\n",
    "print(\"matplotlib version: {}\". format(matplotlib.__version__))\n",
    "import numpy as np #foundational package for scientific computing\n",
    "print(\"NumPy version: {}\". format(np.__version__))\n",
    "import IPython\n",
    "from IPython import display #pretty printing of dataframes in Jupyter notebook\n",
    "print(\"IPython version: {}\". format(IPython.__version__)) \n",
    "import sklearn #collection of machine learning algorithms\n",
    "print(\"scikit-learn version: {}\". format(sklearn.__version__))\n",
    "\n",
    "import os\n",
    "\n",
    "#ignore warnings\n",
    "import warnings\n",
    "warnings.filterwarnings('ignore')\n",
    "print('-'*25)"
   ]
  },
  {
   "cell_type": "markdown",
   "metadata": {},
   "source": [
    "## Data load and pre-processing"
   ]
  },
  {
   "cell_type": "code",
   "execution_count": 2,
   "metadata": {},
   "outputs": [],
   "source": [
    "# The repo which has the data\n",
    "from ucimlrepo import fetch_ucirepo"
   ]
  },
  {
   "cell_type": "code",
   "execution_count": 3,
   "metadata": {},
   "outputs": [],
   "source": [
    "# this function allows you read the data from remote repository or previously downloaded \n",
    "# copy from local folder\n",
    "def read_data(local=True, local_file_name=\"diabetes_raw_data.csv\"):\n",
    "    \"\"\"Reads the raw dataset from either local csv file or from UCI repository\n",
    "\n",
    "    Args:\n",
    "        local (bool, optional): Indicator for local file or remote. Defaults to True.\n",
    "\n",
    "    Returns:\n",
    "        _type_: A DataFrame containing data read from local or remote csv file\n",
    "    \"\"\"\n",
    "    if local:\n",
    "        return pd.read_csv(local_file_name)\n",
    "    else:\n",
    "        # fetch dataset from UCI\n",
    "        cdc_diabetes_health_indicators = fetch_ucirepo(id=891)\n",
    "        \n",
    "        # data (as pandas dataframes) \n",
    "        X = cdc_diabetes_health_indicators.data.features \n",
    "        y = cdc_diabetes_health_indicators.data.targets \n",
    "        # Lets join the features and target variable into a single data frame\n",
    "        return pd.concat([X,y],axis=1)"
   ]
  },
  {
   "cell_type": "code",
   "execution_count": 4,
   "metadata": {},
   "outputs": [],
   "source": [
    "# read the data from remote repo\n",
    "# df = read_data(local=False, local_file_name=None)\n",
    "\n",
    "# saving this data so I don't keep downloading from UCI\n",
    "# df.to_csv(\"diabetes_raw_data.csv\",index=False)\n",
    "\n",
    "# read the dataset from previously downloaded file - which I named \"diabetes_raw_data.csv\"\n",
    "df_raw = read_data(local=True, local_file_name=\"diabetes_raw_data.csv\")"
   ]
  },
  {
   "cell_type": "code",
   "execution_count": 5,
   "metadata": {},
   "outputs": [],
   "source": [
    "# Now remove duplicated records\n",
    "df = df_raw.copy().drop_duplicates(keep= 'first', ignore_index=True)"
   ]
  },
  {
   "cell_type": "code",
   "execution_count": 6,
   "metadata": {},
   "outputs": [],
   "source": [
    "# Remap encoded categorical features into Strings\n",
    "# Re map the categorical data which will then be encoded using dummies etc\n",
    "\n",
    "# Adults who have been told they have high blood pressure by a doctor, nurse, or other health professional\n",
    "# 0 = no high BP 1 = high BP\n",
    "df[\"HighBP\"] = df[\"HighBP\"].map({0 : 'no', 1 : 'yes'})\n",
    "# Have you EVER been told by a doctor, nurse or other health professional that your blood cholesterol is high?\n",
    "\n",
    "df[\"HighChol\"] = df[\"HighChol\"].map({0 : 'no', 1 : 'yes'})\n",
    "\n",
    "# Cholesterol check within past five years \n",
    "df[\"CholCheck\"] = df[\"CholCheck\"].map({0 : 'no', 1 : 'yes'})\n",
    "\n",
    "# Have you smoked at least 100 cigarettes in your entire life?\n",
    "df[\"Smoker\"] = df[\"Smoker\"].map({0:'no', 1:'yes'})\n",
    "\n",
    "# (Ever told) you had a stroke. 0 = no 1 = yes\n",
    "df[\"Stroke\"] = df[\"Stroke\"].map({0 : 'no', 1:'yes'})\n",
    "\n",
    "# coronary heart disease (CHD) or myocardial infarction (MI) 0 = no 1 = yes\n",
    "df[\"HeartDiseaseorAttack\"] = df[\"HeartDiseaseorAttack\"].map({0:'no', 1:'yes'})\n",
    "\n",
    "# physical activity in past 30 days - not including job 0 = no 1 = yes\n",
    "df[\"PhysActivity\"] = df[\"PhysActivity\"].map({0:'no', 1:'yes'})\n",
    "\n",
    "# Consume Fruit 1 or more times per day 0 = no 1 = yes\n",
    "df[\"Fruits\"] = df[\"Fruits\"].map({0:'no', 1:'yes'})\n",
    "\n",
    "# Consume Vegetables 1 or more times per day 0 = no 1 = yes\n",
    "df[\"Veggies\"] = df[\"Veggies\"].map({0:'no', 1:'yes'})\n",
    "\n",
    "# Heavy drinkers (adult men having more than 14 drinks per week and adult women having more than 7 drinks per week) 0 = no 1 = yes\n",
    "df[\"HvyAlcoholConsump\"] = df[\"HvyAlcoholConsump\"].map({0:'no', 1:'yes'})\n",
    "\n",
    "# Have any kind of health care coverage, including health insurance, prepaid plans such as HMO, etc. 0 = no 1 = yes\n",
    "df[\"AnyHealthcare\"] = df[\"AnyHealthcare\"].map({0:'no', 1:'yes'})\n",
    "\n",
    "# Was there a time in the past 12 months when you needed to see a doctor but could not because of cost? 0 = no 1 = yes\n",
    "df[\"NoDocbcCost\"] = df[\"NoDocbcCost\"].map({0:'no', 1:'yes'})\n",
    "\n",
    "# Would you say that in general your health is: scale 1-5 1 = excellent 2 = very good 3 = good 4 = fair 5 = poor\n",
    "df[\"GenHlth\"] = df[\"GenHlth\"].map({1:'excellent', 2:'very_good', 3:'good', 4:'fair', 5:'poor'})\n",
    "\n",
    "# Now thinking about your mental health, which includes stress, depression, and problems with emotions, \n",
    "# for how many days during the past 30 days was your mental health not good? scale 1-30 days\n",
    "################df[\"MentHlth\"] = df[\"MentHlth\"].map({})\n",
    "# Now thinking about your physical health, which includes physical illness and injury, \n",
    "# for how many days during the past 30 days was your physical health not good? scale 1-30 days\n",
    "###############df[\"PhysHlth\"] = df[\"PhysHlth\"].map({})\n",
    "\n",
    "# Do you have serious difficulty walking or climbing stairs? 0 = no 1 = yes\n",
    "df[\"DiffWalk\"] = df[\"DiffWalk\"].map({0:'no', 1:'yes'})\n",
    "\n",
    "# Gender of the person\n",
    "df[\"Sex\"] = df[\"Sex\"].map({0:'female', 1:'male'})\n",
    "\n",
    "#https://www.kaggle.com/datasets/alexteboul/diabetes-health-indicators-dataset/discussion/295407\n",
    "# 13-level age category (_AGEG5YR see codebook) 1 = 18-24 9 = 60-64 13 = 80 or older\n",
    "df[\"Age\"] = df[\"Age\"].map({1:'18_24', 2:'25_29',3:  '30_34',4:'35_39',5:'40_44',6:'45_49',\n",
    "                                   7:'50_54',8:'55_59',9:'60_64',10:'65_69',11:'70_74',12:'75_79',13:'80_'})\n",
    "\n",
    "# What is the highest grade or year of school you completed? = EDUCA\n",
    "# 1 = Never attended school or only kindergarten \n",
    "# 2 = Grades 1 through 8 (Elementary) \n",
    "# 3 = Grades 9 through 11 (Some high school) \n",
    "# 4 = Grade 12 or GED (High school graduate) \n",
    "# 5 = College 1 year to 3 years (Some college or technical school) \n",
    "# 6 = College 4 years or more (College graduate)\n",
    "df[\"Education\"] = df[\"Education\"].map({1:\"uneducated\",\n",
    "                                        2:\"elementary\",\n",
    "                                        3:\"some_high_school\",\n",
    "                                        4:\"high_school_graduate\",\n",
    "                                        5:\"some_college\",\n",
    "                                        6:\"college_graduate\"})\n",
    "\n",
    "# Income scale (INCOME2 see codebook)\n",
    "df[\"Income\"] = df[\"Income\"].map({1:\"LT10k\",\n",
    "                                  2:\"10k_15k\",\n",
    "                                  3:\"15k_20k\",\n",
    "                                  4:\"20k_25k\",\n",
    "                                  5:\"25k_35k\",\n",
    "                                  6:\"35k_50k\",\n",
    "                                  7:\"50k_75k\",\n",
    "                                  8:\"GT75k\"})"
   ]
  },
  {
   "cell_type": "code",
   "execution_count": 7,
   "metadata": {},
   "outputs": [
    {
     "name": "stdout",
     "output_type": "stream",
     "text": [
      "<class 'pandas.core.frame.DataFrame'>\n",
      "RangeIndex: 229474 entries, 0 to 229473\n",
      "Data columns (total 22 columns):\n",
      " #   Column                Non-Null Count   Dtype \n",
      "---  ------                --------------   ----- \n",
      " 0   HighBP                229474 non-null  object\n",
      " 1   HighChol              229474 non-null  object\n",
      " 2   CholCheck             229474 non-null  object\n",
      " 3   BMI                   229474 non-null  int64 \n",
      " 4   Smoker                229474 non-null  object\n",
      " 5   Stroke                229474 non-null  object\n",
      " 6   HeartDiseaseorAttack  229474 non-null  object\n",
      " 7   PhysActivity          229474 non-null  object\n",
      " 8   Fruits                229474 non-null  object\n",
      " 9   Veggies               229474 non-null  object\n",
      " 10  HvyAlcoholConsump     229474 non-null  object\n",
      " 11  AnyHealthcare         229474 non-null  object\n",
      " 12  NoDocbcCost           229474 non-null  object\n",
      " 13  GenHlth               229474 non-null  object\n",
      " 14  MentHlth              229474 non-null  int64 \n",
      " 15  PhysHlth              229474 non-null  int64 \n",
      " 16  DiffWalk              229474 non-null  object\n",
      " 17  Sex                   229474 non-null  object\n",
      " 18  Age                   229474 non-null  object\n",
      " 19  Education             229474 non-null  object\n",
      " 20  Income                229474 non-null  object\n",
      " 21  Diabetes_binary       229474 non-null  int64 \n",
      "dtypes: int64(4), object(18)\n",
      "memory usage: 38.5+ MB\n"
     ]
    }
   ],
   "source": [
    "df.info()"
   ]
  },
  {
   "cell_type": "markdown",
   "metadata": {},
   "source": [
    "## Modeling"
   ]
  },
  {
   "cell_type": "code",
   "execution_count": 8,
   "metadata": {},
   "outputs": [],
   "source": [
    "# Seeding:\n",
    "def seed_all(seed):\n",
    "    \n",
    "    ''' A function to seed everything for getting stable results and reproducibility'''\n",
    "    random.seed(seed)\n",
    "    np.random.seed(seed)\n",
    "    os.environ['PYTHONHASHSEED'] = str(seed)\n",
    "\n",
    "seed = 42    \n",
    "seed_all(seed)"
   ]
  },
  {
   "cell_type": "code",
   "execution_count": 9,
   "metadata": {},
   "outputs": [],
   "source": [
    "from sklearn.model_selection import cross_validate, KFold, StratifiedKFold, learning_curve,  cross_val_score, RandomizedSearchCV, train_test_split, GridSearchCV\n",
    "from sklearn.feature_extraction import DictVectorizer\n",
    "\n",
    "from sklearn.ensemble import RandomForestClassifier, IsolationForest\n",
    "from mlxtend.plotting import plot_confusion_matrix\n",
    "\n",
    "from sklearn.metrics import f1_score, confusion_matrix, ConfusionMatrixDisplay, RocCurveDisplay, classification_report\n",
    "from sklearn.metrics import roc_curve, roc_auc_score\n",
    "\n",
    "#import scikitplot as skplt\n",
    "\n",
    "from yellowbrick.model_selection import validation_curve"
   ]
  },
  {
   "cell_type": "markdown",
   "metadata": {},
   "source": [
    "### Remove Outliers using Isoltion Forest Model"
   ]
  },
  {
   "cell_type": "code",
   "execution_count": 10,
   "metadata": {},
   "outputs": [],
   "source": [
    "numericals = ['BMI','MentHlth', 'PhysHlth']\n",
    "categoricals = ['HighBP', 'HighChol', 'CholCheck', 'Smoker', 'Stroke', 'HeartDiseaseorAttack', 'PhysActivity', 'Fruits', 'Veggies', 'HvyAlcoholConsump',\n",
    " 'AnyHealthcare', 'NoDocbcCost', 'GenHlth', 'DiffWalk', 'Sex', 'Age', 'Education', 'Income']\n",
    "target = \"Diabetes_binary\""
   ]
  },
  {
   "cell_type": "code",
   "execution_count": 11,
   "metadata": {},
   "outputs": [],
   "source": [
    "def convert_to_dv(data, target):\n",
    "    \"\"\"coverts the given data frame into vectorized version\n",
    "\n",
    "    Args:\n",
    "        data (Pandas data frame): inout data farme\n",
    "        target (str): Target Variable\n",
    "\n",
    "    Returns:\n",
    "        Tuple: returns  the new data frame and DV object\n",
    "    \"\"\"\n",
    "    \n",
    "    dF_lcoal = data.copy()\n",
    "    X = df.drop(target, axis=1)\n",
    "    y = df[target]\n",
    "    \n",
    "    # Use `DictVectorizer(sparse=True)` to turn the dataframes into matrices.\n",
    "    x_dicts = X.to_dict(orient='records')\n",
    "    # I choose sparse = False becasue I got warnings about sparse = True\n",
    "    dv = DictVectorizer(sparse=False,separator='_')\n",
    "    # Apply DV on features\n",
    "    X_dv = dv.fit_transform(x_dicts)\n",
    "    \n",
    "    # create data frame \n",
    "    df_transformed = pd.DataFrame(X_dv, columns =dv.get_feature_names_out())\n",
    "    \n",
    "    #add target back\n",
    "    df_transformed[target] = y\n",
    "    \n",
    "    # return the new data frame\n",
    "    return (dv, df_transformed)\n",
    "    "
   ]
  },
  {
   "cell_type": "code",
   "execution_count": 12,
   "metadata": {},
   "outputs": [],
   "source": [
    "dv, df_dv = convert_to_dv(df, target)"
   ]
  },
  {
   "cell_type": "code",
   "execution_count": 13,
   "metadata": {},
   "outputs": [
    {
     "data": {
      "text/html": [
       "<style>#sk-container-id-1 {color: black;}#sk-container-id-1 pre{padding: 0;}#sk-container-id-1 div.sk-toggleable {background-color: white;}#sk-container-id-1 label.sk-toggleable__label {cursor: pointer;display: block;width: 100%;margin-bottom: 0;padding: 0.3em;box-sizing: border-box;text-align: center;}#sk-container-id-1 label.sk-toggleable__label-arrow:before {content: \"▸\";float: left;margin-right: 0.25em;color: #696969;}#sk-container-id-1 label.sk-toggleable__label-arrow:hover:before {color: black;}#sk-container-id-1 div.sk-estimator:hover label.sk-toggleable__label-arrow:before {color: black;}#sk-container-id-1 div.sk-toggleable__content {max-height: 0;max-width: 0;overflow: hidden;text-align: left;background-color: #f0f8ff;}#sk-container-id-1 div.sk-toggleable__content pre {margin: 0.2em;color: black;border-radius: 0.25em;background-color: #f0f8ff;}#sk-container-id-1 input.sk-toggleable__control:checked~div.sk-toggleable__content {max-height: 200px;max-width: 100%;overflow: auto;}#sk-container-id-1 input.sk-toggleable__control:checked~label.sk-toggleable__label-arrow:before {content: \"▾\";}#sk-container-id-1 div.sk-estimator input.sk-toggleable__control:checked~label.sk-toggleable__label {background-color: #d4ebff;}#sk-container-id-1 div.sk-label input.sk-toggleable__control:checked~label.sk-toggleable__label {background-color: #d4ebff;}#sk-container-id-1 input.sk-hidden--visually {border: 0;clip: rect(1px 1px 1px 1px);clip: rect(1px, 1px, 1px, 1px);height: 1px;margin: -1px;overflow: hidden;padding: 0;position: absolute;width: 1px;}#sk-container-id-1 div.sk-estimator {font-family: monospace;background-color: #f0f8ff;border: 1px dotted black;border-radius: 0.25em;box-sizing: border-box;margin-bottom: 0.5em;}#sk-container-id-1 div.sk-estimator:hover {background-color: #d4ebff;}#sk-container-id-1 div.sk-parallel-item::after {content: \"\";width: 100%;border-bottom: 1px solid gray;flex-grow: 1;}#sk-container-id-1 div.sk-label:hover label.sk-toggleable__label {background-color: #d4ebff;}#sk-container-id-1 div.sk-serial::before {content: \"\";position: absolute;border-left: 1px solid gray;box-sizing: border-box;top: 0;bottom: 0;left: 50%;z-index: 0;}#sk-container-id-1 div.sk-serial {display: flex;flex-direction: column;align-items: center;background-color: white;padding-right: 0.2em;padding-left: 0.2em;position: relative;}#sk-container-id-1 div.sk-item {position: relative;z-index: 1;}#sk-container-id-1 div.sk-parallel {display: flex;align-items: stretch;justify-content: center;background-color: white;position: relative;}#sk-container-id-1 div.sk-item::before, #sk-container-id-1 div.sk-parallel-item::before {content: \"\";position: absolute;border-left: 1px solid gray;box-sizing: border-box;top: 0;bottom: 0;left: 50%;z-index: -1;}#sk-container-id-1 div.sk-parallel-item {display: flex;flex-direction: column;z-index: 1;position: relative;background-color: white;}#sk-container-id-1 div.sk-parallel-item:first-child::after {align-self: flex-end;width: 50%;}#sk-container-id-1 div.sk-parallel-item:last-child::after {align-self: flex-start;width: 50%;}#sk-container-id-1 div.sk-parallel-item:only-child::after {width: 0;}#sk-container-id-1 div.sk-dashed-wrapped {border: 1px dashed gray;margin: 0 0.4em 0.5em 0.4em;box-sizing: border-box;padding-bottom: 0.4em;background-color: white;}#sk-container-id-1 div.sk-label label {font-family: monospace;font-weight: bold;display: inline-block;line-height: 1.2em;}#sk-container-id-1 div.sk-label-container {text-align: center;}#sk-container-id-1 div.sk-container {/* jupyter's `normalize.less` sets `[hidden] { display: none; }` but bootstrap.min.css set `[hidden] { display: none !important; }` so we also need the `!important` here to be able to override the default hidden behavior on the sphinx rendered scikit-learn.org. See: https://github.com/scikit-learn/scikit-learn/issues/21755 */display: inline-block !important;position: relative;}#sk-container-id-1 div.sk-text-repr-fallback {display: none;}</style><div id=\"sk-container-id-1\" class=\"sk-top-container\"><div class=\"sk-text-repr-fallback\"><pre>DictVectorizer(separator=&#x27;_&#x27;, sparse=False)</pre><b>In a Jupyter environment, please rerun this cell to show the HTML representation or trust the notebook. <br />On GitHub, the HTML representation is unable to render, please try loading this page with nbviewer.org.</b></div><div class=\"sk-container\" hidden><div class=\"sk-item\"><div class=\"sk-estimator sk-toggleable\"><input class=\"sk-toggleable__control sk-hidden--visually\" id=\"sk-estimator-id-1\" type=\"checkbox\" checked><label for=\"sk-estimator-id-1\" class=\"sk-toggleable__label sk-toggleable__label-arrow\">DictVectorizer</label><div class=\"sk-toggleable__content\"><pre>DictVectorizer(separator=&#x27;_&#x27;, sparse=False)</pre></div></div></div></div></div>"
      ],
      "text/plain": [
       "DictVectorizer(separator='_', sparse=False)"
      ]
     },
     "execution_count": 13,
     "metadata": {},
     "output_type": "execute_result"
    }
   ],
   "source": [
    "# Remember to save this in pickled file for later use\n",
    "dv"
   ]
  },
  {
   "cell_type": "code",
   "execution_count": 14,
   "metadata": {},
   "outputs": [],
   "source": [
    "# Applying Isolation Forest:\n",
    "def remove_outliers(data, target):\n",
    "    \"\"\"Removes outliers from the given data frame using isolation forest model\n",
    "\n",
    "    Args:\n",
    "        data (Pandas DataFrame): The Data Frame\n",
    "        target (str, optional): Name of traget variable.\n",
    "\n",
    "    Returns:\n",
    "        Pandas DataFrame: A data frame with outliers removed from it.\n",
    "    \"\"\"\n",
    "    # Making a local copy so that I don't accidently overwrite original data frame\n",
    "    df_local = data.copy()\n",
    "    \n",
    "    # Split the data into features and target\n",
    "    X = df_local.drop(target, axis=1)\n",
    "    y = df_local[target]\n",
    "    \n",
    "    # Initialise the model\n",
    "    iForest = IsolationForest(contamination=0.1,random_state=seed)\n",
    "    \n",
    "    # Fit the isolation forect on X\n",
    "    y_pred = iForest.fit_predict(X)\n",
    "    \n",
    "    # filter for outliers\n",
    "    mask = (y_pred != -1)\n",
    "    \n",
    "    # remove those outliers\n",
    "    X_clean = X.loc[mask, :]\n",
    "    y_clean= y[mask]\n",
    "    \n",
    "    # return new data frame\n",
    "    return pd.concat([X,y],axis=1)"
   ]
  },
  {
   "cell_type": "code",
   "execution_count": 15,
   "metadata": {},
   "outputs": [],
   "source": [
    "df_cleaned = remove_outliers( data=df_dv, target='Diabetes_binary')"
   ]
  },
  {
   "cell_type": "code",
   "execution_count": 16,
   "metadata": {},
   "outputs": [
    {
     "name": "stdout",
     "output_type": "stream",
     "text": [
      "After removing 0 outliers, we are left with 229474 records\n"
     ]
    }
   ],
   "source": [
    "print(\"After removing {0} outliers, we are left with {1} records\".format((len(df_dv)- len(df_cleaned)), len(df_cleaned)))  "
   ]
  },
  {
   "cell_type": "code",
   "execution_count": 17,
   "metadata": {},
   "outputs": [
    {
     "name": "stdout",
     "output_type": "stream",
     "text": [
      "<class 'pandas.core.frame.DataFrame'>\n",
      "RangeIndex: 229474 entries, 0 to 229473\n",
      "Data columns (total 64 columns):\n",
      " #   Column                          Non-Null Count   Dtype  \n",
      "---  ------                          --------------   -----  \n",
      " 0   Age_18_24                       229474 non-null  float64\n",
      " 1   Age_25_29                       229474 non-null  float64\n",
      " 2   Age_30_34                       229474 non-null  float64\n",
      " 3   Age_35_39                       229474 non-null  float64\n",
      " 4   Age_40_44                       229474 non-null  float64\n",
      " 5   Age_45_49                       229474 non-null  float64\n",
      " 6   Age_50_54                       229474 non-null  float64\n",
      " 7   Age_55_59                       229474 non-null  float64\n",
      " 8   Age_60_64                       229474 non-null  float64\n",
      " 9   Age_65_69                       229474 non-null  float64\n",
      " 10  Age_70_74                       229474 non-null  float64\n",
      " 11  Age_75_79                       229474 non-null  float64\n",
      " 12  Age_80_                         229474 non-null  float64\n",
      " 13  AnyHealthcare_no                229474 non-null  float64\n",
      " 14  AnyHealthcare_yes               229474 non-null  float64\n",
      " 15  BMI                             229474 non-null  float64\n",
      " 16  CholCheck_no                    229474 non-null  float64\n",
      " 17  CholCheck_yes                   229474 non-null  float64\n",
      " 18  DiffWalk_no                     229474 non-null  float64\n",
      " 19  DiffWalk_yes                    229474 non-null  float64\n",
      " 20  Education_college_graduate      229474 non-null  float64\n",
      " 21  Education_elementary            229474 non-null  float64\n",
      " 22  Education_high_school_graduate  229474 non-null  float64\n",
      " 23  Education_some_college          229474 non-null  float64\n",
      " 24  Education_some_high_school      229474 non-null  float64\n",
      " 25  Education_uneducated            229474 non-null  float64\n",
      " 26  Fruits_no                       229474 non-null  float64\n",
      " 27  Fruits_yes                      229474 non-null  float64\n",
      " 28  GenHlth_excellent               229474 non-null  float64\n",
      " 29  GenHlth_fair                    229474 non-null  float64\n",
      " 30  GenHlth_good                    229474 non-null  float64\n",
      " 31  GenHlth_poor                    229474 non-null  float64\n",
      " 32  GenHlth_very_good               229474 non-null  float64\n",
      " 33  HeartDiseaseorAttack_no         229474 non-null  float64\n",
      " 34  HeartDiseaseorAttack_yes        229474 non-null  float64\n",
      " 35  HighBP_no                       229474 non-null  float64\n",
      " 36  HighBP_yes                      229474 non-null  float64\n",
      " 37  HighChol_no                     229474 non-null  float64\n",
      " 38  HighChol_yes                    229474 non-null  float64\n",
      " 39  HvyAlcoholConsump_no            229474 non-null  float64\n",
      " 40  HvyAlcoholConsump_yes           229474 non-null  float64\n",
      " 41  Income_10k_15k                  229474 non-null  float64\n",
      " 42  Income_15k_20k                  229474 non-null  float64\n",
      " 43  Income_20k_25k                  229474 non-null  float64\n",
      " 44  Income_25k_35k                  229474 non-null  float64\n",
      " 45  Income_35k_50k                  229474 non-null  float64\n",
      " 46  Income_50k_75k                  229474 non-null  float64\n",
      " 47  Income_GT75k                    229474 non-null  float64\n",
      " 48  Income_LT10k                    229474 non-null  float64\n",
      " 49  MentHlth                        229474 non-null  float64\n",
      " 50  NoDocbcCost_no                  229474 non-null  float64\n",
      " 51  NoDocbcCost_yes                 229474 non-null  float64\n",
      " 52  PhysActivity_no                 229474 non-null  float64\n",
      " 53  PhysActivity_yes                229474 non-null  float64\n",
      " 54  PhysHlth                        229474 non-null  float64\n",
      " 55  Sex_female                      229474 non-null  float64\n",
      " 56  Sex_male                        229474 non-null  float64\n",
      " 57  Smoker_no                       229474 non-null  float64\n",
      " 58  Smoker_yes                      229474 non-null  float64\n",
      " 59  Stroke_no                       229474 non-null  float64\n",
      " 60  Stroke_yes                      229474 non-null  float64\n",
      " 61  Veggies_no                      229474 non-null  float64\n",
      " 62  Veggies_yes                     229474 non-null  float64\n",
      " 63  Diabetes_binary                 229474 non-null  int64  \n",
      "dtypes: float64(63), int64(1)\n",
      "memory usage: 112.0 MB\n"
     ]
    }
   ],
   "source": [
    "df_cleaned.info()"
   ]
  },
  {
   "cell_type": "markdown",
   "metadata": {},
   "source": [
    "### Random Forest Model\n",
    "\n",
    "The hyper parameters of this model came from previous notebook\n",
    "\n",
    "- `n_estimators: 90`\n",
    "-  `max_depth: 15`\n",
    "- `bootstrap': False`"
   ]
  },
  {
   "cell_type": "code",
   "execution_count": 18,
   "metadata": {},
   "outputs": [
    {
     "name": "stdout",
     "output_type": "stream",
     "text": [
      "160631 68843\n"
     ]
    }
   ],
   "source": [
    "#Split the data into 2 parts: train/test with 70%/30% distribution. \n",
    "# Use train_test_split function for that with random_state=1\n",
    "\n",
    "df_full_train, df_test = train_test_split(df_cleaned, test_size=0.3, random_state=seed)\n",
    "\n",
    "print (len(df_full_train), len(df_test))\n",
    "\n",
    "df_full_train = df_full_train.reset_index(drop=True)\n",
    "df_test = df_test.reset_index(drop=True)"
   ]
  },
  {
   "cell_type": "code",
   "execution_count": 19,
   "metadata": {},
   "outputs": [],
   "source": [
    "def train_rf_model(df_train, target):\n",
    "    \"\"\"Trains a Random Forest Model on data\n",
    "\n",
    "    Args:\n",
    "        df_train (DataFrame): Training dataset\n",
    "        target (str): The target varaible\n",
    "        \n",
    "    Returns:\n",
    "        Model: Object of Random Forest Model\n",
    "    \"\"\"\n",
    "    \n",
    "    # Get features and target\n",
    "    X = df_train.drop(target, axis=1)\n",
    "    y = df_train[target]\n",
    "    \n",
    "\n",
    "    model = randfclass = RandomForestClassifier(n_estimators= 90, \n",
    "                                    max_depth= 15, \n",
    "                                    bootstrap= False,\n",
    "                                    random_state=seed,\n",
    "                                    n_jobs=-1)\n",
    "    model.fit(X, y)\n",
    "    \n",
    "    return model"
   ]
  },
  {
   "cell_type": "code",
   "execution_count": 20,
   "metadata": {},
   "outputs": [],
   "source": [
    "def predict_diabetes(df_test, model):  \n",
    "    \"\"\"Returns prabilites of getting diabetes\n",
    "\n",
    "    Args:\n",
    "        df_test (_type_): _description_\n",
    "        model (_type_): _description_\n",
    "\n",
    "    Returns:\n",
    "        _type_: _description_\n",
    "    \"\"\"\n",
    "    \n",
    "    # Get features and target\n",
    "    X = df_test.drop(target, axis=1)\n",
    "    y = df_test[target]\n",
    "    \n",
    "    # Get prob of 1\n",
    "    probabilities = model.predict_proba(X)\n",
    "    \n",
    "\n",
    "    # 2. Extract probabilities of class 0 and class 1.\n",
    "    prob_class_0 = probabilities[:, 0]\n",
    "    prob_class_1 = probabilities[:, 1]\n",
    "    \n",
    "    #return predictions\n",
    "    return (prob_class_0, prob_class_1)"
   ]
  },
  {
   "cell_type": "markdown",
   "metadata": {},
   "source": [
    " Fit the model on training set"
   ]
  },
  {
   "cell_type": "code",
   "execution_count": 21,
   "metadata": {},
   "outputs": [],
   "source": [
    "rf_model = train_rf_model(df_full_train,target)"
   ]
  },
  {
   "cell_type": "markdown",
   "metadata": {},
   "source": [
    "Test the model to get probabilities"
   ]
  },
  {
   "cell_type": "code",
   "execution_count": 22,
   "metadata": {},
   "outputs": [],
   "source": [
    "prob_class_0, prob_class_1 = predict_diabetes(df_test, rf_model)"
   ]
  },
  {
   "cell_type": "code",
   "execution_count": 23,
   "metadata": {},
   "outputs": [
    {
     "name": "stdout",
     "output_type": "stream",
     "text": [
      "Optimal Threshold based on Youden's index: 0.14944631791961446\n"
     ]
    }
   ],
   "source": [
    "# Calculate ROC curve: fpr, tpr, thresholds\n",
    "fpr, tpr, thresholds = roc_curve(df_test[target], prob_class_1)\n",
    "\n",
    "# Calculate Youden's index\n",
    "J = tpr - fpr\n",
    "\n",
    "# Find the threshold for the max value of Youden's index\n",
    "optimal_threshold = thresholds[J.argmax()]\n",
    "\n",
    "print(f\"Optimal Threshold based on Youden's index: {optimal_threshold}\")\n",
    "\n",
    "# Generate predictions based on the optimal threshold\n",
    "y_pred_optimal = [1 if p >= optimal_threshold else 0 for p in prob_class_1]"
   ]
  },
  {
   "cell_type": "code",
   "execution_count": 24,
   "metadata": {},
   "outputs": [
    {
     "name": "stdout",
     "output_type": "stream",
     "text": [
      "AUC: 73.17%\n"
     ]
    }
   ],
   "source": [
    "auc = roc_auc_score(df_test[target], y_pred_optimal)\n",
    "print(f\"AUC: {auc * 100:.2f}%\")"
   ]
  },
  {
   "cell_type": "code",
   "execution_count": 25,
   "metadata": {},
   "outputs": [
    {
     "name": "stdout",
     "output_type": "stream",
     "text": [
      "\n",
      "Classification Report:\n",
      "              precision    recall  f1-score   support\n",
      "\n",
      "           0       0.94      0.68      0.79     58250\n",
      "           1       0.31      0.78      0.44     10593\n",
      "\n",
      "    accuracy                           0.70     68843\n",
      "   macro avg       0.63      0.73      0.62     68843\n",
      "weighted avg       0.85      0.70      0.74     68843\n",
      "\n"
     ]
    }
   ],
   "source": [
    "print(\"\\nClassification Report:\")\n",
    "print(classification_report(df_test[target], y_pred_optimal))"
   ]
  },
  {
   "cell_type": "code",
   "execution_count": 26,
   "metadata": {},
   "outputs": [
    {
     "data": {
      "image/png": "[encoded data removed]",
      "text/plain": [
       "<Figure size 800x550 with 2 Axes>"
      ]
     },
     "metadata": {},
     "output_type": "display_data"
    }
   ],
   "source": [
    "cm1 = confusion_matrix(df_test[target],y_pred_optimal)\n",
    "plot_confusion_matrix(conf_mat=cm1,show_absolute=True,show_normed=True,colorbar=True)\n",
    "plt.show()"
   ]
  },
  {
   "cell_type": "markdown",
   "metadata": {},
   "source": [
    "## Save The model for offline use"
   ]
  },
  {
   "cell_type": "code",
   "execution_count": 27,
   "metadata": {},
   "outputs": [
    {
     "data": {
      "text/html": [
       "<style>#sk-container-id-2 {color: black;}#sk-container-id-2 pre{padding: 0;}#sk-container-id-2 div.sk-toggleable {background-color: white;}#sk-container-id-2 label.sk-toggleable__label {cursor: pointer;display: block;width: 100%;margin-bottom: 0;padding: 0.3em;box-sizing: border-box;text-align: center;}#sk-container-id-2 label.sk-toggleable__label-arrow:before {content: \"▸\";float: left;margin-right: 0.25em;color: #696969;}#sk-container-id-2 label.sk-toggleable__label-arrow:hover:before {color: black;}#sk-container-id-2 div.sk-estimator:hover label.sk-toggleable__label-arrow:before {color: black;}#sk-container-id-2 div.sk-toggleable__content {max-height: 0;max-width: 0;overflow: hidden;text-align: left;background-color: #f0f8ff;}#sk-container-id-2 div.sk-toggleable__content pre {margin: 0.2em;color: black;border-radius: 0.25em;background-color: #f0f8ff;}#sk-container-id-2 input.sk-toggleable__control:checked~div.sk-toggleable__content {max-height: 200px;max-width: 100%;overflow: auto;}#sk-container-id-2 input.sk-toggleable__control:checked~label.sk-toggleable__label-arrow:before {content: \"▾\";}#sk-container-id-2 div.sk-estimator input.sk-toggleable__control:checked~label.sk-toggleable__label {background-color: #d4ebff;}#sk-container-id-2 div.sk-label input.sk-toggleable__control:checked~label.sk-toggleable__label {background-color: #d4ebff;}#sk-container-id-2 input.sk-hidden--visually {border: 0;clip: rect(1px 1px 1px 1px);clip: rect(1px, 1px, 1px, 1px);height: 1px;margin: -1px;overflow: hidden;padding: 0;position: absolute;width: 1px;}#sk-container-id-2 div.sk-estimator {font-family: monospace;background-color: #f0f8ff;border: 1px dotted black;border-radius: 0.25em;box-sizing: border-box;margin-bottom: 0.5em;}#sk-container-id-2 div.sk-estimator:hover {background-color: #d4ebff;}#sk-container-id-2 div.sk-parallel-item::after {content: \"\";width: 100%;border-bottom: 1px solid gray;flex-grow: 1;}#sk-container-id-2 div.sk-label:hover label.sk-toggleable__label {background-color: #d4ebff;}#sk-container-id-2 div.sk-serial::before {content: \"\";position: absolute;border-left: 1px solid gray;box-sizing: border-box;top: 0;bottom: 0;left: 50%;z-index: 0;}#sk-container-id-2 div.sk-serial {display: flex;flex-direction: column;align-items: center;background-color: white;padding-right: 0.2em;padding-left: 0.2em;position: relative;}#sk-container-id-2 div.sk-item {position: relative;z-index: 1;}#sk-container-id-2 div.sk-parallel {display: flex;align-items: stretch;justify-content: center;background-color: white;position: relative;}#sk-container-id-2 div.sk-item::before, #sk-container-id-2 div.sk-parallel-item::before {content: \"\";position: absolute;border-left: 1px solid gray;box-sizing: border-box;top: 0;bottom: 0;left: 50%;z-index: -1;}#sk-container-id-2 div.sk-parallel-item {display: flex;flex-direction: column;z-index: 1;position: relative;background-color: white;}#sk-container-id-2 div.sk-parallel-item:first-child::after {align-self: flex-end;width: 50%;}#sk-container-id-2 div.sk-parallel-item:last-child::after {align-self: flex-start;width: 50%;}#sk-container-id-2 div.sk-parallel-item:only-child::after {width: 0;}#sk-container-id-2 div.sk-dashed-wrapped {border: 1px dashed gray;margin: 0 0.4em 0.5em 0.4em;box-sizing: border-box;padding-bottom: 0.4em;background-color: white;}#sk-container-id-2 div.sk-label label {font-family: monospace;font-weight: bold;display: inline-block;line-height: 1.2em;}#sk-container-id-2 div.sk-label-container {text-align: center;}#sk-container-id-2 div.sk-container {/* jupyter's `normalize.less` sets `[hidden] { display: none; }` but bootstrap.min.css set `[hidden] { display: none !important; }` so we also need the `!important` here to be able to override the default hidden behavior on the sphinx rendered scikit-learn.org. See: https://github.com/scikit-learn/scikit-learn/issues/21755 */display: inline-block !important;position: relative;}#sk-container-id-2 div.sk-text-repr-fallback {display: none;}</style><div id=\"sk-container-id-2\" class=\"sk-top-container\"><div class=\"sk-text-repr-fallback\"><pre>RandomForestClassifier(bootstrap=False, max_depth=15, n_estimators=90,\n",
       "                       n_jobs=-1, random_state=42)</pre><b>In a Jupyter environment, please rerun this cell to show the HTML representation or trust the notebook. <br />On GitHub, the HTML representation is unable to render, please try loading this page with nbviewer.org.</b></div><div class=\"sk-container\" hidden><div class=\"sk-item\"><div class=\"sk-estimator sk-toggleable\"><input class=\"sk-toggleable__control sk-hidden--visually\" id=\"sk-estimator-id-2\" type=\"checkbox\" checked><label for=\"sk-estimator-id-2\" class=\"sk-toggleable__label sk-toggleable__label-arrow\">RandomForestClassifier</label><div class=\"sk-toggleable__content\"><pre>RandomForestClassifier(bootstrap=False, max_depth=15, n_estimators=90,\n",
       "                       n_jobs=-1, random_state=42)</pre></div></div></div></div></div>"
      ],
      "text/plain": [
       "RandomForestClassifier(bootstrap=False, max_depth=15, n_estimators=90,\n",
       "                       n_jobs=-1, random_state=42)"
      ]
     },
     "execution_count": 27,
     "metadata": {},
     "output_type": "execute_result"
    }
   ],
   "source": [
    "rf_model"
   ]
  },
  {
   "cell_type": "code",
   "execution_count": 28,
   "metadata": {},
   "outputs": [
    {
     "data": {
      "text/html": [
       "<style>#sk-container-id-3 {color: black;}#sk-container-id-3 pre{padding: 0;}#sk-container-id-3 div.sk-toggleable {background-color: white;}#sk-container-id-3 label.sk-toggleable__label {cursor: pointer;display: block;width: 100%;margin-bottom: 0;padding: 0.3em;box-sizing: border-box;text-align: center;}#sk-container-id-3 label.sk-toggleable__label-arrow:before {content: \"▸\";float: left;margin-right: 0.25em;color: #696969;}#sk-container-id-3 label.sk-toggleable__label-arrow:hover:before {color: black;}#sk-container-id-3 div.sk-estimator:hover label.sk-toggleable__label-arrow:before {color: black;}#sk-container-id-3 div.sk-toggleable__content {max-height: 0;max-width: 0;overflow: hidden;text-align: left;background-color: #f0f8ff;}#sk-container-id-3 div.sk-toggleable__content pre {margin: 0.2em;color: black;border-radius: 0.25em;background-color: #f0f8ff;}#sk-container-id-3 input.sk-toggleable__control:checked~div.sk-toggleable__content {max-height: 200px;max-width: 100%;overflow: auto;}#sk-container-id-3 input.sk-toggleable__control:checked~label.sk-toggleable__label-arrow:before {content: \"▾\";}#sk-container-id-3 div.sk-estimator input.sk-toggleable__control:checked~label.sk-toggleable__label {background-color: #d4ebff;}#sk-container-id-3 div.sk-label input.sk-toggleable__control:checked~label.sk-toggleable__label {background-color: #d4ebff;}#sk-container-id-3 input.sk-hidden--visually {border: 0;clip: rect(1px 1px 1px 1px);clip: rect(1px, 1px, 1px, 1px);height: 1px;margin: -1px;overflow: hidden;padding: 0;position: absolute;width: 1px;}#sk-container-id-3 div.sk-estimator {font-family: monospace;background-color: #f0f8ff;border: 1px dotted black;border-radius: 0.25em;box-sizing: border-box;margin-bottom: 0.5em;}#sk-container-id-3 div.sk-estimator:hover {background-color: #d4ebff;}#sk-container-id-3 div.sk-parallel-item::after {content: \"\";width: 100%;border-bottom: 1px solid gray;flex-grow: 1;}#sk-container-id-3 div.sk-label:hover label.sk-toggleable__label {background-color: #d4ebff;}#sk-container-id-3 div.sk-serial::before {content: \"\";position: absolute;border-left: 1px solid gray;box-sizing: border-box;top: 0;bottom: 0;left: 50%;z-index: 0;}#sk-container-id-3 div.sk-serial {display: flex;flex-direction: column;align-items: center;background-color: white;padding-right: 0.2em;padding-left: 0.2em;position: relative;}#sk-container-id-3 div.sk-item {position: relative;z-index: 1;}#sk-container-id-3 div.sk-parallel {display: flex;align-items: stretch;justify-content: center;background-color: white;position: relative;}#sk-container-id-3 div.sk-item::before, #sk-container-id-3 div.sk-parallel-item::before {content: \"\";position: absolute;border-left: 1px solid gray;box-sizing: border-box;top: 0;bottom: 0;left: 50%;z-index: -1;}#sk-container-id-3 div.sk-parallel-item {display: flex;flex-direction: column;z-index: 1;position: relative;background-color: white;}#sk-container-id-3 div.sk-parallel-item:first-child::after {align-self: flex-end;width: 50%;}#sk-container-id-3 div.sk-parallel-item:last-child::after {align-self: flex-start;width: 50%;}#sk-container-id-3 div.sk-parallel-item:only-child::after {width: 0;}#sk-container-id-3 div.sk-dashed-wrapped {border: 1px dashed gray;margin: 0 0.4em 0.5em 0.4em;box-sizing: border-box;padding-bottom: 0.4em;background-color: white;}#sk-container-id-3 div.sk-label label {font-family: monospace;font-weight: bold;display: inline-block;line-height: 1.2em;}#sk-container-id-3 div.sk-label-container {text-align: center;}#sk-container-id-3 div.sk-container {/* jupyter's `normalize.less` sets `[hidden] { display: none; }` but bootstrap.min.css set `[hidden] { display: none !important; }` so we also need the `!important` here to be able to override the default hidden behavior on the sphinx rendered scikit-learn.org. See: https://github.com/scikit-learn/scikit-learn/issues/21755 */display: inline-block !important;position: relative;}#sk-container-id-3 div.sk-text-repr-fallback {display: none;}</style><div id=\"sk-container-id-3\" class=\"sk-top-container\"><div class=\"sk-text-repr-fallback\"><pre>DictVectorizer(separator=&#x27;_&#x27;, sparse=False)</pre><b>In a Jupyter environment, please rerun this cell to show the HTML representation or trust the notebook. <br />On GitHub, the HTML representation is unable to render, please try loading this page with nbviewer.org.</b></div><div class=\"sk-container\" hidden><div class=\"sk-item\"><div class=\"sk-estimator sk-toggleable\"><input class=\"sk-toggleable__control sk-hidden--visually\" id=\"sk-estimator-id-3\" type=\"checkbox\" checked><label for=\"sk-estimator-id-3\" class=\"sk-toggleable__label sk-toggleable__label-arrow\">DictVectorizer</label><div class=\"sk-toggleable__content\"><pre>DictVectorizer(separator=&#x27;_&#x27;, sparse=False)</pre></div></div></div></div></div>"
      ],
      "text/plain": [
       "DictVectorizer(separator='_', sparse=False)"
      ]
     },
     "execution_count": 28,
     "metadata": {},
     "output_type": "execute_result"
    }
   ],
   "source": [
    "dv"
   ]
  },
  {
   "cell_type": "code",
   "execution_count": 31,
   "metadata": {},
   "outputs": [
    {
     "name": "stdout",
     "output_type": "stream",
     "text": [
      "ls: cannot access '/models': No such file or directory\n"
     ]
    }
   ],
   "source": [
    "ls -al /models"
   ]
  },
  {
   "cell_type": "code",
   "execution_count": 32,
   "metadata": {},
   "outputs": [
    {
     "data": {
      "text/plain": [
       "['models/dv.joblib']"
      ]
     },
     "execution_count": 32,
     "metadata": {},
     "output_type": "execute_result"
    }
   ],
   "source": [
    "from joblib import dump\n",
    "\n",
    "# Save the model to a file\n",
    "dump(rf_model, 'models/rf_modelv1.joblib')\n",
    "dump(dv, 'models/dv.joblib')"
   ]
  },
  {
   "cell_type": "code",
   "execution_count": null,
   "metadata": {},
   "outputs": [],
   "source": [
    "# To Load data back from file\n",
    "\n",
    "from joblib import load\n",
    "\n",
    "# Load the model from the file\n",
    "#loaded_model = load('rf_modelv1.joblib')\n",
    "\n",
    "# Use the loaded model to make predictions\n",
    "#predictions = loaded_model.predict(X_test_reduced)"
   ]
  },
  {
   "cell_type": "code",
   "execution_count": 33,
   "metadata": {},
   "outputs": [],
   "source": [
    "# Also save model using Pickly\n",
    "import pickle"
   ]
  },
  {
   "cell_type": "code",
   "execution_count": 34,
   "metadata": {},
   "outputs": [],
   "source": [
    "with open('models/rf_modelv1_pkl.bin', 'wb') as f_out: # 'wb' means write-binary\n",
    "    pickle.dump(rf_model, f_out)\n",
    "    \n",
    "with open('models/dv_pkl.bin', 'wb') as f_out: # 'wb' means write-binary\n",
    "    pickle.dump(dv, f_out)"
   ]
  },
  {
   "cell_type": "code",
   "execution_count": null,
   "metadata": {},
   "outputs": [],
   "source": [
    "# To read pickle back\n",
    "import pickle\n",
    "\n",
    "#with open('mode.bin', 'rb') as f_in: # very important to use 'rb' here, it means read-binary \n",
    "#    dict_vectorizer, model = pickle.load(f_in)\n",
    "## Note: never open a binary file you do not trust the source!"
   ]
  }
 ],
 "metadata": {
  "kernelspec": {
   "display_name": "base",
   "language": "python",
   "name": "python3"
  },
  "language_info": {
   "codemirror_mode": {
    "name": "ipython",
    "version": 3
   },
   "file_extension": ".py",
   "mimetype": "text/x-python",
   "name": "python",
   "nbconvert_exporter": "python",
   "pygments_lexer": "ipython3",
   "version": "3.11.5"
  }
 },
 "nbformat": 4,
 "nbformat_minor": 2
}
