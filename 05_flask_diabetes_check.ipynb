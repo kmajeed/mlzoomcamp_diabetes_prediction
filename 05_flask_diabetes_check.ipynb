{
 "cells": [
  {
   "cell_type": "markdown",
   "id": "3ab0608c-4e2f-42d8-a67a-a708426b2a12",
   "metadata": {},
   "source": [
    "# Notebook to Issue a request to prediction service running in Flask"
   ]
  },
  {
   "cell_type": "code",
   "execution_count": 1,
   "id": "2058af09-fc0b-47d9-9b20-e1eac124a668",
   "metadata": {
    "tags": []
   },
   "outputs": [],
   "source": [
    "## to use the POST method we use a library named requests\n",
    "import requests "
   ]
  },
  {
   "cell_type": "code",
   "execution_count": 2,
   "id": "4da56732-0461-4eb9-89aa-cfd7efe31dd2",
   "metadata": {
    "tags": []
   },
   "outputs": [],
   "source": [
    "## this is the route we made for prediction\n",
    "url = 'http://localhost:9696/predict' "
   ]
  },
  {
   "cell_type": "code",
   "execution_count": 3,
   "id": "1e399c8e-9086-432f-8081-ef2bba96e58c",
   "metadata": {
    "tags": []
   },
   "outputs": [],
   "source": [
    "patient = {\n",
    "    \"HighBP\": \"no\",\n",
    "  \"HighChol\": \"no\",\n",
    "  \"CholCheck\": \"yes\",\n",
    "  \"BMI\": 24,\n",
    "  \"Smoker\": \"no\",\n",
    "  \"Stroke\": \"no\",\n",
    "  \"HeartDiseaseorAttack\": \"no\",\n",
    "  \"PhysActivity\": \"no\",\n",
    "  \"Fruits\": \"no\",\n",
    "  \"Veggies\": \"yes\",\n",
    "  \"HvyAlcoholConsump\": \"no\",\n",
    "  \"AnyHealthcare\": \"yes\",\n",
    "  \"NoDocbcCost\": \"no\",\n",
    "  \"GenHlth\": \"very_good\",\n",
    "  \"MentHlth\": 0,\n",
    "  \"PhysHlth\": 0,\n",
    "  \"DiffWalk\": \"no\",\n",
    "  \"Sex\": \"male\",\n",
    "  \"Age\": \"55_59\",\n",
    "  \"Education\": \"high_school_graduate\",\n",
    "  \"Income\": \"15k_20k\",\n",
    " # \"Diabetes_binary\": 0\n",
    "}\n"
   ]
  },
  {
   "cell_type": "code",
   "execution_count": 4,
   "id": "f8720eee-43ee-401d-a029-a1b83dafd477",
   "metadata": {
    "tags": []
   },
   "outputs": [],
   "source": [
    "## post the customer information in json format\n",
    "response = requests.post(url, json=patient) "
   ]
  },
  {
   "cell_type": "code",
   "execution_count": 5,
   "id": "a3cec5c6-b022-472f-b76a-d94d34cae798",
   "metadata": {
    "tags": []
   },
   "outputs": [
    {
     "name": "stdout",
     "output_type": "stream",
     "text": [
      "{'diabetes_probability': 0.03245551194736553, 'has_diabetes': False}\n"
     ]
    }
   ],
   "source": [
    "## get the server response\n",
    "result = response.json() \n",
    "print(result)"
   ]
  },
  {
   "cell_type": "code",
   "execution_count": 12,
   "id": "139c0a3e-132d-4782-a670-ded2e40cd3a0",
   "metadata": {
    "tags": []
   },
   "outputs": [
    {
     "name": "stdout",
     "output_type": "stream",
     "text": [
      "has this person got diabetes?\n",
      " Answer: False\n",
      " Probability: 0.03245551194736553\n"
     ]
    }
   ],
   "source": [
    "print(\"has this person got diabetes?\\n Answer: {0}\\n Probability: {1}\".format(result['has_diabetes'],result['diabetes_probability']))"
   ]
  },
  {
   "cell_type": "code",
   "execution_count": null,
   "id": "084eb0b2-f993-47c2-ba0b-10218e54a5b8",
   "metadata": {},
   "outputs": [],
   "source": []
  }
 ],
 "metadata": {
  "kernelspec": {
   "display_name": "Python 3 (ipykernel)",
   "language": "python",
   "name": "python3"
  },
  "language_info": {
   "codemirror_mode": {
    "name": "ipython",
    "version": 3
   },
   "file_extension": ".py",
   "mimetype": "text/x-python",
   "name": "python",
   "nbconvert_exporter": "python",
   "pygments_lexer": "ipython3",
   "version": "3.11.5"
  }
 },
 "nbformat": 4,
 "nbformat_minor": 5
}
