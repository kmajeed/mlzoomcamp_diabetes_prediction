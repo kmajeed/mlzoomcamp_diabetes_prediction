{
 "cells": [
  {
   "cell_type": "markdown",
   "id": "3ab0608c-4e2f-42d8-a67a-a708426b2a12",
   "metadata": {},
   "source": [
    "# Notebook to Issue a request to prediction service in Cloud"
   ]
  },
  {
   "cell_type": "markdown",
   "metadata": {},
   "source": [
    "My app in cloud is hosted on free server so it is highly likely that it will shut down at some point.\n",
    "Please rely on output below or screenshots to verify the outcome "
   ]
  },
  {
   "cell_type": "code",
   "execution_count": 1,
   "id": "2058af09-fc0b-47d9-9b20-e1eac124a668",
   "metadata": {
    "tags": []
   },
   "outputs": [],
   "source": [
    "## to use the POST method we use a library named requests\n",
    "import requests "
   ]
  },
  {
   "cell_type": "code",
   "execution_count": 2,
   "id": "4da56732-0461-4eb9-89aa-cfd7efe31dd2",
   "metadata": {
    "tags": []
   },
   "outputs": [],
   "source": [
    "## this is the route we made for prediction\n",
    "url = 'https://diabetesprediction-l5y1.onrender.com/predict' "
   ]
  },
  {
   "cell_type": "code",
   "execution_count": 3,
   "id": "1e399c8e-9086-432f-8081-ef2bba96e58c",
   "metadata": {
    "tags": []
   },
   "outputs": [],
   "source": [
    "patient = {\n",
    "  \"HighBP\": \"yes\",\n",
    "  \"HighChol\": \"yes\",\n",
    "  \"CholCheck\": \"yes\",\n",
    "  \"BMI\": 30,\n",
    "  \"Smoker\": \"yes\",\n",
    "  \"Stroke\": \"no\",\n",
    "  \"HeartDiseaseorAttack\": \"yes\",\n",
    "  \"PhysActivity\": \"no\",\n",
    "  \"Fruits\": \"yes\",\n",
    "  \"Veggies\": \"yes\",\n",
    "  \"HvyAlcoholConsump\": \"no\",\n",
    "  \"AnyHealthcare\": \"yes\",\n",
    "  \"NoDocbcCost\": \"no\",\n",
    "  \"GenHlth\": \"poor\",\n",
    "  \"MentHlth\": 30,\n",
    "  \"PhysHlth\": 30,\n",
    "  \"DiffWalk\": \"yes\",\n",
    "  \"Sex\": \"female\",\n",
    "  \"Age\": \"60_64\",\n",
    "  \"Education\": \"some_college\",\n",
    "  \"Income\": \"LT10k\",\n",
    "  \"Diabetes_binary\": 1\n",
    "}\n",
    "\n"
   ]
  },
  {
   "cell_type": "code",
   "execution_count": 4,
   "id": "f8720eee-43ee-401d-a029-a1b83dafd477",
   "metadata": {
    "tags": []
   },
   "outputs": [],
   "source": [
    "## post the customer information in json format\n",
    "response = requests.post(url, json=patient) "
   ]
  },
  {
   "cell_type": "code",
   "execution_count": 5,
   "id": "a3cec5c6-b022-472f-b76a-d94d34cae798",
   "metadata": {
    "tags": []
   },
   "outputs": [
    {
     "name": "stdout",
     "output_type": "stream",
     "text": [
      "{'diabetes_probability': 0.6139180191642245, 'has_diabetes': True}\n"
     ]
    }
   ],
   "source": [
    "## get the server response\n",
    "result = response.json() \n",
    "print(result)"
   ]
  },
  {
   "cell_type": "code",
   "execution_count": 6,
   "id": "139c0a3e-132d-4782-a670-ded2e40cd3a0",
   "metadata": {
    "tags": []
   },
   "outputs": [
    {
     "name": "stdout",
     "output_type": "stream",
     "text": [
      "has this person got diabetes?\n",
      " Answer: True\n",
      " Probability: 0.6139180191642245\n"
     ]
    }
   ],
   "source": [
    "print(\"has this person got diabetes?\\n Answer: {0}\\n Probability: {1}\".format(result['has_diabetes'],result['diabetes_probability']))"
   ]
  },
  {
   "cell_type": "code",
   "execution_count": null,
   "id": "084eb0b2-f993-47c2-ba0b-10218e54a5b8",
   "metadata": {},
   "outputs": [],
   "source": []
  }
 ],
 "metadata": {
  "kernelspec": {
   "display_name": "Python 3 (ipykernel)",
   "language": "python",
   "name": "python3"
  },
  "language_info": {
   "codemirror_mode": {
    "name": "ipython",
    "version": 3
   },
   "file_extension": ".py",
   "mimetype": "text/x-python",
   "name": "python",
   "nbconvert_exporter": "python",
   "pygments_lexer": "ipython3",
   "version": "3.11.5"
  }
 },
 "nbformat": 4,
 "nbformat_minor": 5
}
